{
 "cells": [
  {
   "cell_type": "code",
   "execution_count": 1,
   "metadata": {},
   "outputs": [],
   "source": [
    "def getBookInfo(title):\n",
    "    import numpy as np\n",
    "    import pandas as pd\n",
    "    import requests\n",
    "    import xmltodict\n",
    "    import pprint\n",
    "    import json\n",
    "    info=[]\n",
    "    url=' https://www.goodreads.com/book/title.xml'\n",
    "    parameters={\"key\":' laszLDheUrLhOPhB43g',\"title\":title}\n",
    "    result = requests.get(url,params=parameters)\n",
    "    my_dict = xmltodict.parse(result.content)\n",
    "    x=my_dict['GoodreadsResponse']['book']\n",
    "    if 'id' in x:\n",
    "        idb=x['id']\n",
    "    url='https://www.goodreads.com/book/show.xml'\n",
    "    parameters={\"key\":' laszLDheUrLhOPhB43g',\"id\":idb}\n",
    "    result = requests.get(url,params=parameters)\n",
    "    my_dict = xmltodict.parse(result.content)\n",
    "    x=my_dict['GoodreadsResponse']['book']\n",
    "    #print(\"Title : {}\".format(x['title']))\n",
    "    #print(\"Book id :{}\".format(idb))\n",
    "    #print(x['image_url'])\n",
    "    #print(\"Averge Rating : {}\".format(x['average_rating']))\n",
    "    #print(\"Author : {}\".format(x['authors']['author']['name']))\n",
    "    info.append(\"Title : {}\".format(x['title']))\n",
    "    info.append(\"Book id :{}\".format(idb))\n",
    "    info.append(x['image_url'])\n",
    "    info.append(\"Averge Rating : {}\".format(x['average_rating']))\n",
    "    info.append(\"Author : {}\".format(x['authors']['author']['name']))\n",
    "    print(info)"
   ]
  },
  {
   "cell_type": "code",
   "execution_count": 2,
   "metadata": {},
   "outputs": [
    {
     "name": "stdout",
     "output_type": "stream",
     "text": [
      "['Title : Hatchet', 'Book id :50', 'https://s.gr-assets.com/assets/nophoto/book/111x148-bcc042a9c91a29c1d680899eff700a03.png', 'Averge Rating : 3.70', 'Author : Gary Paulsen']\n"
     ]
    }
   ],
   "source": [
    "getBookInfo('Hatchet')"
   ]
  },
  {
   "cell_type": "code",
   "execution_count": null,
   "metadata": {},
   "outputs": [],
   "source": []
  }
 ],
 "metadata": {
  "kernelspec": {
   "display_name": "Python 3",
   "language": "python",
   "name": "python3"
  },
  "language_info": {
   "codemirror_mode": {
    "name": "ipython",
    "version": 3
   },
   "file_extension": ".py",
   "mimetype": "text/x-python",
   "name": "python",
   "nbconvert_exporter": "python",
   "pygments_lexer": "ipython3",
   "version": "3.6.8"
  }
 },
 "nbformat": 4,
 "nbformat_minor": 2
}
