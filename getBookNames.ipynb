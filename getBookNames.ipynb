{
 "cells": [
  {
   "cell_type": "code",
   "execution_count": 106,
   "metadata": {},
   "outputs": [],
   "source": [
    "def getBooksName(id):\n",
    "    import numpy as np\n",
    "    import pandas as pd\n",
    "    import requests\n",
    "    import xmltodict\n",
    "    import pprint\n",
    "    import json\n",
    "    url =  'https://www.goodreads.com/author/list.xml'  \n",
    "    parameters={\"key\":' laszLDheUrLhOPhB43g',\"id\":id}\n",
    "    result = requests.get(url,params=parameters)\n",
    "    my_dict = xmltodict.parse(result.content)\n",
    "    x=my_dict['GoodreadsResponse']['author']['books']['book']\n",
    "    for i in x:\n",
    "        print(i['title'])"
   ]
  },
  {
   "cell_type": "code",
   "execution_count": 107,
   "metadata": {},
   "outputs": [
    {
     "name": "stdout",
     "output_type": "stream",
     "text": [
      "Cathedrals of the World\n",
      "Alessandro Mendini\n"
     ]
    }
   ],
   "source": [
    "getBooksName(18544)"
   ]
  },
  {
   "cell_type": "code",
   "execution_count": null,
   "metadata": {},
   "outputs": [],
   "source": []
  }
 ],
 "metadata": {
  "kernelspec": {
   "display_name": "Python 3",
   "language": "python",
   "name": "python3"
  },
  "language_info": {
   "codemirror_mode": {
    "name": "ipython",
    "version": 3
   },
   "file_extension": ".py",
   "mimetype": "text/x-python",
   "name": "python",
   "nbconvert_exporter": "python",
   "pygments_lexer": "ipython3",
   "version": "3.6.8"
  }
 },
 "nbformat": 4,
 "nbformat_minor": 2
}
