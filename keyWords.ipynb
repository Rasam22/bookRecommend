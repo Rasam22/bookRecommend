{
 "cells": [
  {
   "cell_type": "code",
   "execution_count": 3,
   "metadata": {},
   "outputs": [],
   "source": [
    "def getInfo(keyword):\n",
    "    import numpy as np\n",
    "    import pandas as pd\n",
    "    import requests\n",
    "    import xmltodict\n",
    "    import pprint\n",
    "    import json\n",
    "    url=' https://www.goodreads.com/search/index.xml'\n",
    "    parameters={\"key\":' laszLDheUrLhOPhB43g',\"q\":keyword}\n",
    "    result = requests.get(url,params=parameters)\n",
    "    my_dict = xmltodict.parse(result.content)\n",
    "    x=my_dict['GoodreadsResponse']['search']['results']['work']\n",
    "    for i in x:\n",
    "        ans=i['best_book']\n",
    "        print(ans['title'])\n",
    "    "
   ]
  },
  {
   "cell_type": "code",
   "execution_count": 4,
   "metadata": {},
   "outputs": [
    {
     "name": "stdout",
     "output_type": "stream",
     "text": [
      "The Fellowship of the Ring (The Lord of the Rings, #1)\n",
      "The Lord of the Rings (The Lord of the Rings, #1-3)\n",
      "The Two Towers (The Lord of the Rings, #2)\n",
      "The Return of the King (The Lord of the Rings, #3)\n",
      "The Thief Lord\n",
      "Lord of the Flies\n",
      "Lord of Shadows (The Dark Artifices, #2)\n",
      "Lord of Chaos (Wheel of Time, #6)\n",
      "Lord Jim\n",
      "Lord of Light\n",
      "Lord John and the Private Matter (Lord John Grey, #1)\n",
      "When We Collided\n",
      "Lord Brocktree (Redwall, #13)\n",
      "Rules\n",
      "The Start of Me and You (The Start of Me and You, #1)\n",
      "Lord of Misrule (The Morganville Vampires, #5)\n",
      "Tramp for the Lord\n",
      "The Good Lord Bird\n",
      "Open Road Summer\n",
      "Lord John and the Brotherhood of the Blade  (Lord John Grey, #2)\n"
     ]
    }
   ],
   "source": [
    "getInfo('lord')"
   ]
  },
  {
   "cell_type": "code",
   "execution_count": null,
   "metadata": {},
   "outputs": [],
   "source": []
  }
 ],
 "metadata": {
  "kernelspec": {
   "display_name": "Python 3",
   "language": "python",
   "name": "python3"
  },
  "language_info": {
   "codemirror_mode": {
    "name": "ipython",
    "version": 3
   },
   "file_extension": ".py",
   "mimetype": "text/x-python",
   "name": "python",
   "nbconvert_exporter": "python",
   "pygments_lexer": "ipython3",
   "version": "3.6.8"
  }
 },
 "nbformat": 4,
 "nbformat_minor": 2
}
