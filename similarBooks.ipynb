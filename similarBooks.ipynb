{
 "cells": [
  {
   "cell_type": "code",
   "execution_count": 38,
   "metadata": {},
   "outputs": [],
   "source": [
    "def getSimilarBooks(title):\n",
    "    import numpy as np\n",
    "    import pandas as pd\n",
    "    import requests\n",
    "    import xmltodict\n",
    "    import pprint\n",
    "    import json\n",
    "    url =  'https://www.goodreads.com/search/index.xml'  \n",
    "    parameters={\"key\":' laszLDheUrLhOPhB43g',\"q\":title}\n",
    "    result= requests.get(url,params=parameters)\n",
    "    my_dict = xmltodict.parse(result.content)\n",
    "    x=my_dict['GoodreadsResponse']['search']['results']['work']\n",
    "    if 'id' in x:\n",
    "        x=[x]\n",
    "    for i in x:\n",
    "        tempt=i['best_book']['title']\n",
    "        if(tempt==title):\n",
    "            ida=(i['best_book']['author']['id']['#text'])\n",
    "            idb=(i['best_book']['id']['#text'])\n",
    "    url='https://www.goodreads.com/book/show.xml'\n",
    "    parameters={\"key\":' laszLDheUrLhOPhB43g',\"id\":idb}\n",
    "    result = requests.get(url,params=parameters)\n",
    "    my_dict = xmltodict.parse(result.content)\n",
    "    x=my_dict['GoodreadsResponse']['book']\n",
    "    tempt=my_dict['GoodreadsResponse']['book']['title']\n",
    "    tempi=my_dict['GoodreadsResponse']['book']['id']\n",
    "    if 'similar_books' in x:\n",
    "        ans=my_dict['GoodreadsResponse']['book']['similar_books']['book']\n",
    "        cnt=0;\n",
    "        for i in x:\n",
    "            if(tempt==title and tempi==idb):\n",
    "                for j in ans:\n",
    "                    if cnt<5:\n",
    "                        print('title is : {}'.format(j['title']))\n",
    "                        print('publication_year : {}'.format(j['publication_year']))\n",
    "                        print('ratings_count : {}'.format(j['ratings_count']))\n",
    "                        cnt=cnt+1\n",
    "    else:\n",
    "        print('no similar books exist')"
   ]
  },
  {
   "cell_type": "code",
   "execution_count": 39,
   "metadata": {},
   "outputs": [],
   "source": [
    "def userChoice(title1,title2,title3):\n",
    "    getSimilarBooks(title1);\n",
    "    getSimilarBooks(title2);\n",
    "    getSimilarBooks(title3);"
   ]
  },
  {
   "cell_type": "code",
   "execution_count": 40,
   "metadata": {},
   "outputs": [
    {
     "name": "stdout",
     "output_type": "stream",
     "text": [
      "no similar books exist\n",
      "title is : Return to Howliday Inn (Bunnicula, #5)\n",
      "publication_year : 2000\n",
      "ratings_count : 8478\n",
      "title is : The Battle for the Castle (The Castle in the Attic, #2)\n",
      "publication_year : 1994\n",
      "ratings_count : 8478\n",
      "title is : Pigs Might Fly\n",
      "publication_year : 1990\n",
      "ratings_count : 8478\n",
      "title is : Otis Spofford (Ellen & Otis, #2)\n",
      "publication_year : 2008\n",
      "ratings_count : 8478\n",
      "title is : My Teacher Fried My Brains (My Teacher Is an Alien, #2)\n",
      "publication_year : 2005\n",
      "ratings_count : 8478\n",
      "title is : Local Custom (Liaden Universe, #5)\n",
      "publication_year : 2002\n",
      "ratings_count : 11555\n",
      "title is : A Confederation of Valor (Confederation, #1-2)\n",
      "publication_year : 2006\n",
      "ratings_count : 11555\n",
      "title is : The Ruby Dice (Saga of the Skolian Empire, #12)\n",
      "publication_year : 2008\n",
      "ratings_count : 11555\n",
      "title is : Once a Hero (The Serrano Legacy, #4)\n",
      "publication_year : 1997\n",
      "ratings_count : 11555\n",
      "title is : The World Before (Wess'Har Wars, #3)\n",
      "publication_year : 2005\n",
      "ratings_count : 11555\n"
     ]
    }
   ],
   "source": [
    "userChoice(\"Hatchet\",\"The Secret of the Indian\",\"Cordelia's Honor (Vorkosigan Omnibus, #1)\")"
   ]
  },
  {
   "cell_type": "code",
   "execution_count": null,
   "metadata": {},
   "outputs": [],
   "source": []
  }
 ],
 "metadata": {
  "kernelspec": {
   "display_name": "Python 3",
   "language": "python",
   "name": "python3"
  },
  "language_info": {
   "codemirror_mode": {
    "name": "ipython",
    "version": 3
   },
   "file_extension": ".py",
   "mimetype": "text/x-python",
   "name": "python",
   "nbconvert_exporter": "python",
   "pygments_lexer": "ipython3",
   "version": "3.6.8"
  }
 },
 "nbformat": 4,
 "nbformat_minor": 2
}
